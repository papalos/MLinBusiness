{
 "cells": [
  {
   "cell_type": "markdown",
   "id": "premium-action",
   "metadata": {},
   "source": [
    "## Курсовой проект по курсу \"Машинное обучение в бизнесе\""
   ]
  },
  {
   "cell_type": "markdown",
   "id": "applicable-consultancy",
   "metadata": {},
   "source": [
    "### Проверка работоспособности API"
   ]
  },
  {
   "cell_type": "code",
   "execution_count": 1,
   "id": "suspended-christmas",
   "metadata": {},
   "outputs": [
    {
     "name": "stderr",
     "output_type": "stream",
     "text": [
      "/Users/annasmelova/anaconda3/lib/python3.7/site-packages/sklearn/utils/deprecation.py:143: FutureWarning: The sklearn.metrics.scorer module is  deprecated in version 0.22 and will be removed in version 0.24. The corresponding classes / functions should instead be imported from sklearn.metrics. Anything that cannot be imported from sklearn.metrics is now part of the private API.\n",
      "  warnings.warn(message, FutureWarning)\n"
     ]
    }
   ],
   "source": [
    "import pandas as pd\n",
    "import urllib.request\n",
    "import json \n",
    "from sklearn.metrics import roc_auc_score,roc_curve,scorer\n",
    "from urllib import request, parse\n",
    "\n",
    "def get_prediction(field_array=None, myurl=None):\n",
    "    \"\"\"\n",
    "    Input parameters:\n",
    "        field_array: python list - contains raw fields needed to make a prediction\n",
    "        myurl: REST API url\n",
    "    Returns:\n",
    "        result: float - model prediction\n",
    "    \"\"\"\n",
    "    result = 0\n",
    "    age, sex, cp, exng, trtbps, thalachh = field_array\n",
    "    \n",
    "    body = {\"age\": age,\n",
    "            \"sex\": sex,\n",
    "            \"cp\": cp,\n",
    "            \"exng\": exng,\n",
    "            \"trtbps\": trtbps,\n",
    "            \"thalachh\": thalachh}\n",
    "\n",
    "    req = urllib.request.Request(myurl)\n",
    "    req.add_header('Content-Type', 'application/json; charset=utf-8')\n",
    "    jsondata = json.dumps(body)\n",
    "    jsondataasbytes = jsondata.encode('utf-8')   # needs to be bytes\n",
    "    req.add_header('Content-Length', len(jsondataasbytes))\n",
    "    response = urllib.request.urlopen(req, jsondataasbytes)\n",
    "    \n",
    "    return json.loads(response.read())['predictions']\n",
    "\n",
    "API_URL = 'http://0.0.0.0:8180/predict'\n",
    "\n",
    "X_test = pd.read_csv('X_test.csv')\n",
    "y_test = pd.read_csv('y_test.csv')"
   ]
  },
  {
   "cell_type": "markdown",
   "id": "suitable-graphic",
   "metadata": {},
   "source": [
    "Посмотрим что за данные у нас есть"
   ]
  },
  {
   "cell_type": "code",
   "execution_count": 2,
   "id": "moved-wallpaper",
   "metadata": {},
   "outputs": [
    {
     "data": {
      "text/html": [
       "<div>\n",
       "<style scoped>\n",
       "    .dataframe tbody tr th:only-of-type {\n",
       "        vertical-align: middle;\n",
       "    }\n",
       "\n",
       "    .dataframe tbody tr th {\n",
       "        vertical-align: top;\n",
       "    }\n",
       "\n",
       "    .dataframe thead th {\n",
       "        text-align: right;\n",
       "    }\n",
       "</style>\n",
       "<table border=\"1\" class=\"dataframe\">\n",
       "  <thead>\n",
       "    <tr style=\"text-align: right;\">\n",
       "      <th></th>\n",
       "      <th>age</th>\n",
       "      <th>sex</th>\n",
       "      <th>cp</th>\n",
       "      <th>exng</th>\n",
       "      <th>trtbps</th>\n",
       "      <th>thalachh</th>\n",
       "    </tr>\n",
       "  </thead>\n",
       "  <tbody>\n",
       "    <tr>\n",
       "      <th>0</th>\n",
       "      <td>70</td>\n",
       "      <td>1</td>\n",
       "      <td>0</td>\n",
       "      <td>1</td>\n",
       "      <td>145</td>\n",
       "      <td>125</td>\n",
       "    </tr>\n",
       "    <tr>\n",
       "      <th>1</th>\n",
       "      <td>64</td>\n",
       "      <td>1</td>\n",
       "      <td>3</td>\n",
       "      <td>0</td>\n",
       "      <td>170</td>\n",
       "      <td>155</td>\n",
       "    </tr>\n",
       "    <tr>\n",
       "      <th>2</th>\n",
       "      <td>59</td>\n",
       "      <td>1</td>\n",
       "      <td>3</td>\n",
       "      <td>0</td>\n",
       "      <td>170</td>\n",
       "      <td>159</td>\n",
       "    </tr>\n",
       "  </tbody>\n",
       "</table>\n",
       "</div>"
      ],
      "text/plain": [
       "   age  sex  cp  exng  trtbps  thalachh\n",
       "0   70    1   0     1     145       125\n",
       "1   64    1   3     0     170       155\n",
       "2   59    1   3     0     170       159"
      ]
     },
     "execution_count": 2,
     "metadata": {},
     "output_type": "execute_result"
    }
   ],
   "source": [
    "X_test[['age', 'sex', 'cp', 'exng', 'trtbps', 'thalachh']].head(3)"
   ]
  },
  {
   "cell_type": "code",
   "execution_count": 3,
   "id": "civic-homework",
   "metadata": {},
   "outputs": [
    {
     "name": "stdout",
     "output_type": "stream",
     "text": [
      "<class 'pandas.core.frame.DataFrame'>\n",
      "RangeIndex: 61 entries, 0 to 60\n",
      "Data columns (total 6 columns):\n",
      "age         61 non-null int64\n",
      "sex         61 non-null int64\n",
      "cp          61 non-null int64\n",
      "exng        61 non-null int64\n",
      "trtbps      61 non-null int64\n",
      "thalachh    61 non-null int64\n",
      "dtypes: int64(6)\n",
      "memory usage: 3.0 KB\n"
     ]
    }
   ],
   "source": [
    "X_test.info()"
   ]
  },
  {
   "cell_type": "markdown",
   "id": "beautiful-armor",
   "metadata": {},
   "source": [
    "### Getting predictions from REST API"
   ]
  },
  {
   "cell_type": "code",
   "execution_count": 4,
   "id": "functional-jerusalem",
   "metadata": {},
   "outputs": [
    {
     "name": "stdout",
     "output_type": "stream",
     "text": [
      "CPU times: user 63 ms, sys: 18.6 ms, total: 81.5 ms\n",
      "Wall time: 1.7 s\n"
     ]
    }
   ],
   "source": [
    "%%time\n",
    "predictions = X_test[['age', 'sex', 'cp', 'exng', 'trtbps', \n",
    "                      'thalachh']].apply(lambda x: get_prediction(x, API_URL), 1)"
   ]
  },
  {
   "cell_type": "markdown",
   "id": "bridal-straight",
   "metadata": {},
   "source": [
    "check performance (roc auc)"
   ]
  },
  {
   "cell_type": "code",
   "execution_count": 5,
   "id": "micro-compromise",
   "metadata": {},
   "outputs": [
    {
     "data": {
      "text/plain": [
       "0.8725490196078431"
      ]
     },
     "execution_count": 5,
     "metadata": {},
     "output_type": "execute_result"
    }
   ],
   "source": [
    "roc_auc_score(y_score=predictions.values, y_true=y_test)"
   ]
  },
  {
   "cell_type": "code",
   "execution_count": null,
   "id": "optimum-vitamin",
   "metadata": {},
   "outputs": [],
   "source": []
  }
 ],
 "metadata": {
  "kernelspec": {
   "display_name": "Python 3",
   "language": "python",
   "name": "python3"
  },
  "language_info": {
   "codemirror_mode": {
    "name": "ipython",
    "version": 3
   },
   "file_extension": ".py",
   "mimetype": "text/x-python",
   "name": "python",
   "nbconvert_exporter": "python",
   "pygments_lexer": "ipython3",
   "version": "3.7.3"
  }
 },
 "nbformat": 4,
 "nbformat_minor": 5
}
